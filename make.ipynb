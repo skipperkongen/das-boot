{
 "cells": [
  {
   "cell_type": "code",
   "execution_count": 226,
   "id": "seven-excerpt",
   "metadata": {},
   "outputs": [],
   "source": [
    "import numpy as np\n",
    "import pandas as pd\n",
    "from matplotlib import pyplot as plt\n",
    "\n",
    "BEER = 0\n",
    "ADULT = 1\n",
    "SCHOOL = 2\n",
    "SEGMENTS = [BEER, ADULT, SCHOOL]\n",
    "BOAT_SIZE = 6*30"
   ]
  },
  {
   "cell_type": "markdown",
   "id": "outdoor-handy",
   "metadata": {},
   "source": [
    "## Population"
   ]
  },
  {
   "cell_type": "code",
   "execution_count": 233,
   "id": "essential-glance",
   "metadata": {},
   "outputs": [
    {
     "data": {
      "text/plain": [
       "(array([ 7., 12., 24., 30., 54., 48., 39., 21., 13.,  8.]),\n",
       " array([ 65.83891868,  70.56131644,  75.2837142 ,  80.00611196,\n",
       "         84.72850972,  89.45090748,  94.17330524,  98.89570301,\n",
       "        103.61810077, 108.34049853, 113.06289629]),\n",
       " <BarContainer object of 10 artists>)"
      ]
     },
     "execution_count": 233,
     "metadata": {},
     "output_type": "execute_result"
    },
    {
     "data": {
      "image/png": "[encoded data removed]",
      "text/plain": [
       "<Figure size 432x288 with 1 Axes>"
      ]
     },
     "metadata": {
      "needs_background": "light"
     },
     "output_type": "display_data"
    }
   ],
   "source": [
    "beer_lovers = np.random.normal(90, 10, 256)\n",
    "plt.hist(beer_lovers)"
   ]
  },
  {
   "cell_type": "code",
   "execution_count": 234,
   "id": "angry-graph",
   "metadata": {},
   "outputs": [
    {
     "data": {
      "text/plain": [
       "(array([  1.,   3.,  34., 158., 372., 602., 480., 255.,  77.,  18.]),\n",
       " array([ 32.90500135,  40.23499783,  47.56499431,  54.89499079,\n",
       "         62.22498727,  69.55498375,  76.88498023,  84.21497671,\n",
       "         91.54497319,  98.87496968, 106.20496616]),\n",
       " <BarContainer object of 10 artists>)"
      ]
     },
     "execution_count": 234,
     "metadata": {},
     "output_type": "execute_result"
    },
    {
     "data": {
      "image/png": "[encoded data removed]",
      "text/plain": [
       "<Figure size 432x288 with 1 Axes>"
      ]
     },
     "metadata": {
      "needs_background": "light"
     },
     "output_type": "display_data"
    }
   ],
   "source": [
    "adults = np.random.normal(75, 10, 2000)\n",
    "plt.hist(adults)"
   ]
  },
  {
   "cell_type": "code",
   "execution_count": 235,
   "id": "previous-myanmar",
   "metadata": {},
   "outputs": [
    {
     "data": {
      "text/plain": [
       "(array([  8.,  38., 101., 150., 124.,  64.,  18.,   5.,   5.,   7.]),\n",
       " array([17.71906262, 25.17886693, 32.63867124, 40.09847555, 47.55827986,\n",
       "        55.01808417, 62.47788848, 69.93769279, 77.3974971 , 84.85730141,\n",
       "        92.31710572]),\n",
       " <BarContainer object of 10 artists>)"
      ]
     },
     "execution_count": 235,
     "metadata": {},
     "output_type": "execute_result"
    },
    {
     "data": {
      "image/png": "[encoded data removed]",
      "text/plain": [
       "<Figure size 432x288 with 1 Axes>"
      ]
     },
     "metadata": {
      "needs_background": "light"
     },
     "output_type": "display_data"
    }
   ],
   "source": [
    "teachers = np.random.normal(75, 10, 20)\n",
    "kids = np.random.normal(45, 10, 500)\n",
    "schools = np.concatenate([teachers, kids])\n",
    "plt.hist(schools)"
   ]
  },
  {
   "cell_type": "code",
   "execution_count": 236,
   "id": "personalized-stress",
   "metadata": {},
   "outputs": [
    {
     "data": {
      "text/html": [
       "<div>\n",
       "<style scoped>\n",
       "    .dataframe tbody tr th:only-of-type {\n",
       "        vertical-align: middle;\n",
       "    }\n",
       "\n",
       "    .dataframe tbody tr th {\n",
       "        vertical-align: top;\n",
       "    }\n",
       "\n",
       "    .dataframe thead th {\n",
       "        text-align: right;\n",
       "    }\n",
       "</style>\n",
       "<table border=\"1\" class=\"dataframe\">\n",
       "  <thead>\n",
       "    <tr style=\"text-align: right;\">\n",
       "      <th></th>\n",
       "      <th>body_weight</th>\n",
       "      <th>segment</th>\n",
       "    </tr>\n",
       "  </thead>\n",
       "  <tbody>\n",
       "    <tr>\n",
       "      <th>0</th>\n",
       "      <td>86.146332</td>\n",
       "      <td>0.0</td>\n",
       "    </tr>\n",
       "    <tr>\n",
       "      <th>1</th>\n",
       "      <td>75.826937</td>\n",
       "      <td>0.0</td>\n",
       "    </tr>\n",
       "    <tr>\n",
       "      <th>2</th>\n",
       "      <td>101.594190</td>\n",
       "      <td>0.0</td>\n",
       "    </tr>\n",
       "    <tr>\n",
       "      <th>3</th>\n",
       "      <td>95.545861</td>\n",
       "      <td>0.0</td>\n",
       "    </tr>\n",
       "    <tr>\n",
       "      <th>4</th>\n",
       "      <td>112.520604</td>\n",
       "      <td>0.0</td>\n",
       "    </tr>\n",
       "    <tr>\n",
       "      <th>...</th>\n",
       "      <td>...</td>\n",
       "      <td>...</td>\n",
       "    </tr>\n",
       "    <tr>\n",
       "      <th>3136</th>\n",
       "      <td>NaN</td>\n",
       "      <td>NaN</td>\n",
       "    </tr>\n",
       "    <tr>\n",
       "      <th>3137</th>\n",
       "      <td>NaN</td>\n",
       "      <td>NaN</td>\n",
       "    </tr>\n",
       "    <tr>\n",
       "      <th>3138</th>\n",
       "      <td>NaN</td>\n",
       "      <td>NaN</td>\n",
       "    </tr>\n",
       "    <tr>\n",
       "      <th>3139</th>\n",
       "      <td>NaN</td>\n",
       "      <td>NaN</td>\n",
       "    </tr>\n",
       "    <tr>\n",
       "      <th>3140</th>\n",
       "      <td>NaN</td>\n",
       "      <td>NaN</td>\n",
       "    </tr>\n",
       "  </tbody>\n",
       "</table>\n",
       "<p>3141 rows × 2 columns</p>\n",
       "</div>"
      ],
      "text/plain": [
       "      body_weight  segment\n",
       "0       86.146332      0.0\n",
       "1       75.826937      0.0\n",
       "2      101.594190      0.0\n",
       "3       95.545861      0.0\n",
       "4      112.520604      0.0\n",
       "...           ...      ...\n",
       "3136          NaN      NaN\n",
       "3137          NaN      NaN\n",
       "3138          NaN      NaN\n",
       "3139          NaN      NaN\n",
       "3140          NaN      NaN\n",
       "\n",
       "[3141 rows x 2 columns]"
      ]
     },
     "execution_count": 236,
     "metadata": {},
     "output_type": "execute_result"
    }
   ],
   "source": [
    "anons = np.empty(365)\n",
    "anons[:] = np.nan\n",
    "body_weights = np.concatenate([beer_lovers, adults, schools, anons])\n",
    "body_weights[np.random.choice(len(body_weights), replace=False, size=127)] = np.nan\n",
    "segments = np.concatenate([\n",
    "    np.full(len(beer_lovers), BEER),\n",
    "    np.full(len(adults), ADULT),\n",
    "    np.full(len(schools), SCHOOL),\n",
    "    anons\n",
    "])\n",
    "df_pop = pd.DataFrame({'body_weight': body_weights, 'segment': segments})\n",
    "\n",
    "df_pop"
   ]
  },
  {
   "cell_type": "code",
   "execution_count": 237,
   "id": "automated-charm",
   "metadata": {},
   "outputs": [
    {
     "data": {
      "text/html": [
       "<div>\n",
       "<style scoped>\n",
       "    .dataframe tbody tr th:only-of-type {\n",
       "        vertical-align: middle;\n",
       "    }\n",
       "\n",
       "    .dataframe tbody tr th {\n",
       "        vertical-align: top;\n",
       "    }\n",
       "\n",
       "    .dataframe thead th {\n",
       "        text-align: right;\n",
       "    }\n",
       "</style>\n",
       "<table border=\"1\" class=\"dataframe\">\n",
       "  <thead>\n",
       "    <tr style=\"text-align: right;\">\n",
       "      <th></th>\n",
       "      <th>body_weight</th>\n",
       "    </tr>\n",
       "    <tr>\n",
       "      <th>segment</th>\n",
       "      <th></th>\n",
       "    </tr>\n",
       "  </thead>\n",
       "  <tbody>\n",
       "    <tr>\n",
       "      <th>0.0</th>\n",
       "      <td>89.788812</td>\n",
       "    </tr>\n",
       "    <tr>\n",
       "      <th>1.0</th>\n",
       "      <td>75.098258</td>\n",
       "    </tr>\n",
       "    <tr>\n",
       "      <th>2.0</th>\n",
       "      <td>46.764238</td>\n",
       "    </tr>\n",
       "  </tbody>\n",
       "</table>\n",
       "</div>"
      ],
      "text/plain": [
       "         body_weight\n",
       "segment             \n",
       "0.0        89.788812\n",
       "1.0        75.098258\n",
       "2.0        46.764238"
      ]
     },
     "execution_count": 237,
     "metadata": {},
     "output_type": "execute_result"
    }
   ],
   "source": [
    "df_pop.groupby('segment').mean()"
   ]
  },
  {
   "cell_type": "code",
   "execution_count": 238,
   "id": "photographic-tyler",
   "metadata": {},
   "outputs": [
    {
     "data": {
      "text/plain": [
       "(array([ 256.,    0.,    0.,    0.,    0., 2000.,    0.,    0.,    0.,\n",
       "         520.]),\n",
       " array([0. , 0.2, 0.4, 0.6, 0.8, 1. , 1.2, 1.4, 1.6, 1.8, 2. ]),\n",
       " <BarContainer object of 10 artists>)"
      ]
     },
     "execution_count": 238,
     "metadata": {},
     "output_type": "execute_result"
    },
    {
     "data": {
      "image/png": "[encoded data removed]",
      "text/plain": [
       "<Figure size 432x288 with 1 Axes>"
      ]
     },
     "metadata": {
      "needs_background": "light"
     },
     "output_type": "display_data"
    }
   ],
   "source": [
    "plt.hist(df_pop.segment)"
   ]
  },
  {
   "cell_type": "markdown",
   "id": "adverse-adventure",
   "metadata": {},
   "source": [
    "## Trips"
   ]
  },
  {
   "cell_type": "code",
   "execution_count": 239,
   "id": "dried-postage",
   "metadata": {},
   "outputs": [],
   "source": [
    "n_trips = 52*7\n",
    "beer_prob = 0.25\n",
    "rows = []\n",
    "for trip_id in range(n_trips):\n",
    "    weekday = np.random.randint(0,7)\n",
    "    serves_beer = weekday >= 5 and np.random.random() < beer_prob\n",
    "    # calculate sample props\n",
    "    if weekday < 5:\n",
    "        # oversample school\n",
    "        weights = np.ones(len(df_pop))\n",
    "        weights[df_pop.segment == SCHOOL] = 10\n",
    "    elif serves_beer:\n",
    "        # undersample school, oversample powerlifters\n",
    "        weights = np.ones(len(df_pop))\n",
    "        weights[df_pop.segment == POWER] = 30\n",
    "        weights[df_pop.segment == ADULT] = 5\n",
    "        weights[df_pop.segment == SCHOOL] = 1\n",
    "    else:\n",
    "        # random sample\n",
    "        weights = np.ones(len(df_pop))\n",
    "    gasts = df_pop.sample(BOAT_SIZE, weights = weights, replace=False).values\n",
    "    for body_weight, segment in gasts:\n",
    "        rows.append([trip_id, weekday, serves_beer, body_weight, segment])\n",
    "df_trip = pd.DataFrame(rows, columns=['trip_id', 'weekday', 'serves_beer', 'body_weight', 'segment'])"
   ]
  },
  {
   "cell_type": "code",
   "execution_count": 241,
   "id": "integrated-editing",
   "metadata": {},
   "outputs": [
    {
     "data": {
      "text/plain": [
       "(array([2077.,    0.,    0.,    0.,    0., 3030.,    0.,    0.,    0.,\n",
       "         188.]),\n",
       " array([0. , 0.2, 0.4, 0.6, 0.8, 1. , 1.2, 1.4, 1.6, 1.8, 2. ]),\n",
       " <BarContainer object of 10 artists>)"
      ]
     },
     "execution_count": 241,
     "metadata": {},
     "output_type": "execute_result"
    },
    {
     "data": {
      "image/png": "[encoded data removed]",
      "text/plain": [
       "<Figure size 432x288 with 1 Axes>"
      ]
     },
     "metadata": {
      "needs_background": "light"
     },
     "output_type": "display_data"
    }
   ],
   "source": [
    "plt.hist(df_trip[df_trip.serves_beer].segment)"
   ]
  },
  {
   "cell_type": "markdown",
   "id": "considerable-monte",
   "metadata": {},
   "source": [
    "## Save data"
   ]
  },
  {
   "cell_type": "code",
   "execution_count": 242,
   "id": "ceramic-texture",
   "metadata": {},
   "outputs": [],
   "source": [
    "df_pop.to_csv('population.csv', index=False)\n",
    "df_trip.to_csv('trips.csv', index=False)"
   ]
  },
  {
   "cell_type": "code",
   "execution_count": null,
   "id": "complicated-nelson",
   "metadata": {},
   "outputs": [],
   "source": []
  }
 ],
 "metadata": {
  "kernelspec": {
   "display_name": "Python 3",
   "language": "python",
   "name": "python3"
  },
  "language_info": {
   "codemirror_mode": {
    "name": "ipython",
    "version": 3
   },
   "file_extension": ".py",
   "mimetype": "text/x-python",
   "name": "python",
   "nbconvert_exporter": "python",
   "pygments_lexer": "ipython3",
   "version": "3.7.9"
  }
 },
 "nbformat": 4,
 "nbformat_minor": 5
}
