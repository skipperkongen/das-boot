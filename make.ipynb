{
 "cells": [
  {
   "cell_type": "code",
   "execution_count": 243,
   "id": "greatest-nutrition",
   "metadata": {},
   "outputs": [],
   "source": [
    "import numpy as np\n",
    "import pandas as pd\n",
    "from matplotlib import pyplot as plt\n",
    "\n",
    "BEER = 0\n",
    "ADULT = 1\n",
    "SCHOOL = 2\n",
    "SEGMENTS = [BEER, ADULT, SCHOOL]\n",
    "BOAT_SIZE = 20"
   ]
  },
  {
   "cell_type": "markdown",
   "id": "thirty-polls",
   "metadata": {},
   "source": [
    "## Population"
   ]
  },
  {
   "cell_type": "code",
   "execution_count": 244,
   "id": "running-webster",
   "metadata": {},
   "outputs": [
    {
     "data": {
      "text/plain": [
       "(array([ 3.,  7., 21., 48., 44., 59., 36., 22., 11.,  5.]),\n",
       " array([ 63.043039  ,  68.35653216,  73.67002532,  78.98351848,\n",
       "         84.29701164,  89.6105048 ,  94.92399796, 100.23749112,\n",
       "        105.55098428, 110.86447744, 116.17797059]),\n",
       " <BarContainer object of 10 artists>)"
      ]
     },
     "execution_count": 244,
     "metadata": {},
     "output_type": "execute_result"
    },
    {
     "data": {
      "image/png": "[encoded data removed]",
      "text/plain": [
       "<Figure size 432x288 with 1 Axes>"
      ]
     },
     "metadata": {
      "needs_background": "light"
     },
     "output_type": "display_data"
    }
   ],
   "source": [
    "beer_lovers = np.random.normal(90, 10, 256)\n",
    "plt.hist(beer_lovers)"
   ]
  },
  {
   "cell_type": "code",
   "execution_count": 245,
   "id": "gross-coupon",
   "metadata": {},
   "outputs": [
    {
     "data": {
      "text/plain": [
       "(array([  8.,  52., 199., 355., 552., 488., 244.,  87.,  10.,   5.]),\n",
       " array([ 41.81092676,  48.84443802,  55.87794929,  62.91146056,\n",
       "         69.94497183,  76.9784831 ,  84.01199436,  91.04550563,\n",
       "         98.0790169 , 105.11252817, 112.14603943]),\n",
       " <BarContainer object of 10 artists>)"
      ]
     },
     "execution_count": 245,
     "metadata": {},
     "output_type": "execute_result"
    },
    {
     "data": {
      "image/png": "[encoded data removed]",
      "text/plain": [
       "<Figure size 432x288 with 1 Axes>"
      ]
     },
     "metadata": {
      "needs_background": "light"
     },
     "output_type": "display_data"
    }
   ],
   "source": [
    "adults = np.random.normal(75, 10, 2000)\n",
    "plt.hist(adults)"
   ]
  },
  {
   "cell_type": "code",
   "execution_count": 246,
   "id": "union-independence",
   "metadata": {},
   "outputs": [
    {
     "data": {
      "text/plain": [
       "(array([  1.,   4.,  26.,  78., 160., 134.,  78.,  22.,   8.,   9.]),\n",
       " array([ 4.40456974, 12.59926033, 20.79395093, 28.98864152, 37.18333212,\n",
       "        45.37802271, 53.57271331, 61.7674039 , 69.9620945 , 78.15678509,\n",
       "        86.35147569]),\n",
       " <BarContainer object of 10 artists>)"
      ]
     },
     "execution_count": 246,
     "metadata": {},
     "output_type": "execute_result"
    },
    {
     "data": {
      "image/png": "[encoded data removed]",
      "text/plain": [
       "<Figure size 432x288 with 1 Axes>"
      ]
     },
     "metadata": {
      "needs_background": "light"
     },
     "output_type": "display_data"
    }
   ],
   "source": [
    "teachers = np.random.normal(75, 10, 20)\n",
    "kids = np.random.normal(45, 10, 500)\n",
    "schools = np.concatenate([teachers, kids])\n",
    "plt.hist(schools)"
   ]
  },
  {
   "cell_type": "code",
   "execution_count": 247,
   "id": "sapphire-slovakia",
   "metadata": {},
   "outputs": [
    {
     "data": {
      "text/html": [
       "<div>\n",
       "<style scoped>\n",
       "    .dataframe tbody tr th:only-of-type {\n",
       "        vertical-align: middle;\n",
       "    }\n",
       "\n",
       "    .dataframe tbody tr th {\n",
       "        vertical-align: top;\n",
       "    }\n",
       "\n",
       "    .dataframe thead th {\n",
       "        text-align: right;\n",
       "    }\n",
       "</style>\n",
       "<table border=\"1\" class=\"dataframe\">\n",
       "  <thead>\n",
       "    <tr style=\"text-align: right;\">\n",
       "      <th></th>\n",
       "      <th>body_weight</th>\n",
       "      <th>segment</th>\n",
       "    </tr>\n",
       "  </thead>\n",
       "  <tbody>\n",
       "    <tr>\n",
       "      <th>0</th>\n",
       "      <td>84.025881</td>\n",
       "      <td>0.0</td>\n",
       "    </tr>\n",
       "    <tr>\n",
       "      <th>1</th>\n",
       "      <td>86.257675</td>\n",
       "      <td>0.0</td>\n",
       "    </tr>\n",
       "    <tr>\n",
       "      <th>2</th>\n",
       "      <td>75.811148</td>\n",
       "      <td>0.0</td>\n",
       "    </tr>\n",
       "    <tr>\n",
       "      <th>3</th>\n",
       "      <td>96.968516</td>\n",
       "      <td>0.0</td>\n",
       "    </tr>\n",
       "    <tr>\n",
       "      <th>4</th>\n",
       "      <td>89.654485</td>\n",
       "      <td>0.0</td>\n",
       "    </tr>\n",
       "    <tr>\n",
       "      <th>...</th>\n",
       "      <td>...</td>\n",
       "      <td>...</td>\n",
       "    </tr>\n",
       "    <tr>\n",
       "      <th>3136</th>\n",
       "      <td>NaN</td>\n",
       "      <td>NaN</td>\n",
       "    </tr>\n",
       "    <tr>\n",
       "      <th>3137</th>\n",
       "      <td>NaN</td>\n",
       "      <td>NaN</td>\n",
       "    </tr>\n",
       "    <tr>\n",
       "      <th>3138</th>\n",
       "      <td>NaN</td>\n",
       "      <td>NaN</td>\n",
       "    </tr>\n",
       "    <tr>\n",
       "      <th>3139</th>\n",
       "      <td>NaN</td>\n",
       "      <td>NaN</td>\n",
       "    </tr>\n",
       "    <tr>\n",
       "      <th>3140</th>\n",
       "      <td>NaN</td>\n",
       "      <td>NaN</td>\n",
       "    </tr>\n",
       "  </tbody>\n",
       "</table>\n",
       "<p>3141 rows × 2 columns</p>\n",
       "</div>"
      ],
      "text/plain": [
       "      body_weight  segment\n",
       "0       84.025881      0.0\n",
       "1       86.257675      0.0\n",
       "2       75.811148      0.0\n",
       "3       96.968516      0.0\n",
       "4       89.654485      0.0\n",
       "...           ...      ...\n",
       "3136          NaN      NaN\n",
       "3137          NaN      NaN\n",
       "3138          NaN      NaN\n",
       "3139          NaN      NaN\n",
       "3140          NaN      NaN\n",
       "\n",
       "[3141 rows x 2 columns]"
      ]
     },
     "execution_count": 247,
     "metadata": {},
     "output_type": "execute_result"
    }
   ],
   "source": [
    "anons = np.empty(365)\n",
    "anons[:] = np.nan\n",
    "body_weights = np.concatenate([beer_lovers, adults, schools, anons])\n",
    "body_weights[np.random.choice(len(body_weights), replace=False, size=127)] = np.nan\n",
    "segments = np.concatenate([\n",
    "    np.full(len(beer_lovers), BEER),\n",
    "    np.full(len(adults), ADULT),\n",
    "    np.full(len(schools), SCHOOL),\n",
    "    anons\n",
    "])\n",
    "df_pop = pd.DataFrame({'body_weight': body_weights, 'segment': segments})\n",
    "\n",
    "df_pop"
   ]
  },
  {
   "cell_type": "code",
   "execution_count": 248,
   "id": "inner-punch",
   "metadata": {},
   "outputs": [
    {
     "data": {
      "text/html": [
       "<div>\n",
       "<style scoped>\n",
       "    .dataframe tbody tr th:only-of-type {\n",
       "        vertical-align: middle;\n",
       "    }\n",
       "\n",
       "    .dataframe tbody tr th {\n",
       "        vertical-align: top;\n",
       "    }\n",
       "\n",
       "    .dataframe thead th {\n",
       "        text-align: right;\n",
       "    }\n",
       "</style>\n",
       "<table border=\"1\" class=\"dataframe\">\n",
       "  <thead>\n",
       "    <tr style=\"text-align: right;\">\n",
       "      <th></th>\n",
       "      <th>body_weight</th>\n",
       "    </tr>\n",
       "    <tr>\n",
       "      <th>segment</th>\n",
       "      <th></th>\n",
       "    </tr>\n",
       "  </thead>\n",
       "  <tbody>\n",
       "    <tr>\n",
       "      <th>0.0</th>\n",
       "      <td>89.653317</td>\n",
       "    </tr>\n",
       "    <tr>\n",
       "      <th>1.0</th>\n",
       "      <td>74.752900</td>\n",
       "    </tr>\n",
       "    <tr>\n",
       "      <th>2.0</th>\n",
       "      <td>45.736906</td>\n",
       "    </tr>\n",
       "  </tbody>\n",
       "</table>\n",
       "</div>"
      ],
      "text/plain": [
       "         body_weight\n",
       "segment             \n",
       "0.0        89.653317\n",
       "1.0        74.752900\n",
       "2.0        45.736906"
      ]
     },
     "execution_count": 248,
     "metadata": {},
     "output_type": "execute_result"
    }
   ],
   "source": [
    "df_pop.groupby('segment').mean()"
   ]
  },
  {
   "cell_type": "code",
   "execution_count": 249,
   "id": "developing-vanilla",
   "metadata": {},
   "outputs": [
    {
     "data": {
      "text/plain": [
       "(array([ 256.,    0.,    0.,    0.,    0., 2000.,    0.,    0.,    0.,\n",
       "         520.]),\n",
       " array([0. , 0.2, 0.4, 0.6, 0.8, 1. , 1.2, 1.4, 1.6, 1.8, 2. ]),\n",
       " <BarContainer object of 10 artists>)"
      ]
     },
     "execution_count": 249,
     "metadata": {},
     "output_type": "execute_result"
    },
    {
     "data": {
      "image/png": "[encoded data removed]",
      "text/plain": [
       "<Figure size 432x288 with 1 Axes>"
      ]
     },
     "metadata": {
      "needs_background": "light"
     },
     "output_type": "display_data"
    }
   ],
   "source": [
    "plt.hist(df_pop.segment)"
   ]
  },
  {
   "cell_type": "markdown",
   "id": "sustainable-columbus",
   "metadata": {},
   "source": [
    "## Trips"
   ]
  },
  {
   "cell_type": "code",
   "execution_count": 250,
   "id": "perceived-foundation",
   "metadata": {},
   "outputs": [],
   "source": [
    "n_trips = 52*7\n",
    "beer_prob = 0.25\n",
    "rows = []\n",
    "for trip_id in range(n_trips):\n",
    "    weekday = np.random.randint(0,7)\n",
    "    serves_beer = weekday >= 5 and np.random.random() < beer_prob\n",
    "    # calculate sample props\n",
    "    if weekday < 5:\n",
    "        # oversample school\n",
    "        weights = np.ones(len(df_pop))\n",
    "        weights[df_pop.segment == SCHOOL] = 10\n",
    "    elif serves_beer:\n",
    "        # undersample school, oversample powerlifters\n",
    "        weights = np.ones(len(df_pop))\n",
    "        weights[df_pop.segment == POWER] = 30\n",
    "        weights[df_pop.segment == ADULT] = 5\n",
    "        weights[df_pop.segment == SCHOOL] = 1\n",
    "    else:\n",
    "        # random sample\n",
    "        weights = np.ones(len(df_pop))\n",
    "    gasts = df_pop.sample(BOAT_SIZE, weights = weights, replace=False).values\n",
    "    for body_weight, segment in gasts:\n",
    "        rows.append([trip_id, weekday, serves_beer, body_weight, segment])\n",
    "df_trip = pd.DataFrame(rows, columns=['trip_id', 'weekday', 'serves_beer', 'body_weight', 'segment'])"
   ]
  },
  {
   "cell_type": "code",
   "execution_count": 251,
   "id": "rental-chase",
   "metadata": {},
   "outputs": [
    {
     "data": {
      "text/plain": [
       "(array([291.,   0.,   0.,   0.,   0., 340.,   0.,   0.,   0.,  17.]),\n",
       " array([0. , 0.2, 0.4, 0.6, 0.8, 1. , 1.2, 1.4, 1.6, 1.8, 2. ]),\n",
       " <BarContainer object of 10 artists>)"
      ]
     },
     "execution_count": 251,
     "metadata": {},
     "output_type": "execute_result"
    },
    {
     "data": {
      "image/png": "[encoded data removed]",
      "text/plain": [
       "<Figure size 432x288 with 1 Axes>"
      ]
     },
     "metadata": {
      "needs_background": "light"
     },
     "output_type": "display_data"
    }
   ],
   "source": [
    "plt.hist(df_trip[df_trip.serves_beer].segment)"
   ]
  },
  {
   "cell_type": "markdown",
   "id": "prompt-delight",
   "metadata": {},
   "source": [
    "## Save data"
   ]
  },
  {
   "cell_type": "code",
   "execution_count": 252,
   "id": "understanding-identification",
   "metadata": {},
   "outputs": [],
   "source": [
    "df_pop.to_csv('population.csv', index=False)\n",
    "df_trip.to_csv('trips.csv', index=False)"
   ]
  },
  {
   "cell_type": "code",
   "execution_count": null,
   "id": "proper-planner",
   "metadata": {},
   "outputs": [],
   "source": []
  }
 ],
 "metadata": {
  "kernelspec": {
   "display_name": "Python 3",
   "language": "python",
   "name": "python3"
  },
  "language_info": {
   "codemirror_mode": {
    "name": "ipython",
    "version": 3
   },
   "file_extension": ".py",
   "mimetype": "text/x-python",
   "name": "python",
   "nbconvert_exporter": "python",
   "pygments_lexer": "ipython3",
   "version": "3.7.9"
  }
 },
 "nbformat": 4,
 "nbformat_minor": 5
}
